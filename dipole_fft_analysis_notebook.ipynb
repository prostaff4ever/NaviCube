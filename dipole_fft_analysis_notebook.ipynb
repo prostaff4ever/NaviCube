{
 "cells": [
  {
   "cell_type": "markdown",
   "id": "f1b1b8dc",
   "metadata": {},
   "source": [
    "# Dipole Field Analysis in 3D\n",
    "This notebook analyzes synthetic magnetic dipole fields with added noise and sampling effects.\n",
    "It demonstrates:\n",
    "- Dipole generation\n",
    "- Gaussian and 1/f noise\n",
    "- Aliasing via undersampling\n",
    "- Low-pass filtering\n",
    "- FFT visualization of each condition"
   ]
  },
  {
   "cell_type": "code",
   "execution_count": null,
   "id": "5945d0ce",
   "metadata": {},
   "outputs": [],
   "source": [
    "# Imports and Grid Setup\n",
    "import numpy as np\n",
    "from numpy.fft import fftn, fftshift, ifftn\n",
    "from scipy.ndimage import gaussian_filter\n",
    "\n",
    "N = 32\n",
    "step = 4\n",
    "x = np.linspace(-1, 1, N)\n",
    "y = np.linspace(-1, 1, N)\n",
    "z = np.linspace(-1, 1, N)\n",
    "X, Y, Z = np.meshgrid(x, y, z, indexing='ij')"
   ]
  },
  {
   "cell_type": "code",
   "execution_count": null,
   "id": "818a9692",
   "metadata": {},
   "outputs": [],
   "source": [
    "# Dipole Field Function\n",
    "def magnetic_dipole_field(x, y, z, x0, y0, z0, m):\n",
    "    r = np.sqrt((x - x0)**2 + (y - y0)**2 + (z - z0)**2) + 1e-6\n",
    "    r_hat_x = (x - x0) / r\n",
    "    r_hat_y = (y - y0) / r\n",
    "    r_hat_z = (z - z0) / r\n",
    "    dot = m * r_hat_z\n",
    "    Bx = (3 * r_hat_x * dot) / (r**3)\n",
    "    By = (3 * r_hat_y * dot) / (r**3)\n",
    "    Bz = (3 * r_hat_z * dot - m) / (r**3)\n",
    "    return Bx, By, Bz"
   ]
  },
  {
   "cell_type": "code",
   "execution_count": null,
   "id": "5215b871",
   "metadata": {},
   "outputs": [],
   "source": [
    "# 1/f Noise Generator\n",
    "def generate_1f_noise(shape, amplitude_scale=1.0):\n",
    "    kx = np.fft.fftfreq(shape[0]).reshape(-1, 1, 1)\n",
    "    ky = np.fft.fftfreq(shape[1]).reshape(1, -1, 1)\n",
    "    kz = np.fft.fftfreq(shape[2]).reshape(1, 1, -1)\n",
    "    k_mag = np.sqrt(kx**2 + ky**2 + kz**2)\n",
    "    k_mag[0, 0, 0] = 1e-6\n",
    "    spectrum = np.random.normal(size=shape) + 1j * np.random.normal(size=shape)\n",
    "    spectrum *= (1.0 / k_mag)\n",
    "    noise = np.real(ifftn(spectrum))\n",
    "    noise -= np.mean(noise)\n",
    "    noise /= np.max(np.abs(noise))\n",
    "    return noise * amplitude_scale"
   ]
  },
  {
   "cell_type": "code",
   "execution_count": null,
   "id": "d5ddbb98",
   "metadata": {},
   "outputs": [],
   "source": [
    "# Field Generation\n",
    "dipoles = [\n",
    "    {\"pos\": (-2.5, 0.7, -1.2), \"m\": 1.0},\n",
    "    {\"pos\": (-0.5, -0.5, -0.5), \"m\": 0.3},\n",
    "    {\"pos\": (0.5, 0.5, 0.5), \"m\": 0.5},\n",
    "    {\"pos\": (-0.7, 0.6, 0.0), \"m\": 0.2}\n",
    "]\n",
    "baseline_vector = (-0.3, -0.5, -0.7)\n",
    "\n",
    "Bx = By = Bz = np.zeros_like(X)\n",
    "for d in dipoles:\n",
    "    bx, by, bz = magnetic_dipole_field(X, Y, Z, *d[\"pos\"], d[\"m\"])\n",
    "    Bx += bx\n",
    "    By += by\n",
    "    Bz += bz\n",
    "Bx += baseline_vector[0]\n",
    "By += baseline_vector[1]\n",
    "Bz += baseline_vector[2]"
   ]
  },
  {
   "cell_type": "code",
   "execution_count": null,
   "id": "76d0d3ed",
   "metadata": {},
   "outputs": [],
   "source": [
    "# Add Gaussian and 1/f Noise\n",
    "smallest_m = min(d[\"m\"] for d in dipoles)\n",
    "np.random.seed(42)\n",
    "gauss_1p = 0.01 * smallest_m\n",
    "gauss_10p = 0.10 * smallest_m\n",
    "pink_5p = 0.05 * smallest_m\n",
    "\n",
    "Bx_10p = Bx + np.random.normal(0, gauss_10p, Bx.shape)\n",
    "By_10p = By + np.random.normal(0, gauss_10p, By.shape)\n",
    "Bz_10p = Bz + np.random.normal(0, gauss_10p, Bz.shape)\n",
    "\n",
    "pink_noise = generate_1f_noise(Bx.shape, pink_5p)\n",
    "Bx_combined = Bx_10p + pink_noise\n",
    "By_combined = By_10p + pink_noise\n",
    "Bz_combined = Bz_10p + pink_noise"
   ]
  },
  {
   "cell_type": "code",
   "execution_count": null,
   "id": "1ea2b57e",
   "metadata": {},
   "outputs": [],
   "source": [
    "# FFT Utility\n",
    "def fft_mag(Bx, By, Bz):\n",
    "    return fftshift(np.abs(fftn(np.sqrt(Bx**2 + By**2 + Bz**2))))\n",
    "\n",
    "# Example usage\n",
    "fft_combined = fft_mag(Bx_combined, By_combined, Bz_combined)"
   ]
  }
 ],
 "metadata": {},
 "nbformat": 4,
 "nbformat_minor": 5
}
